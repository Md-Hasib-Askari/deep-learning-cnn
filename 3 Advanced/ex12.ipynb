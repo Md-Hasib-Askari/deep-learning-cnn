{
 "cells": [
  {
   "cell_type": "markdown",
   "id": "3c8b6af5",
   "metadata": {},
   "source": [
    "## 🧪 Exercise 12: Style Transfer\n",
    "\n",
    "**Objective**: Learn feature extraction and synthesis.\n",
    "\n",
    "**Tasks**:\n",
    "- Use **VGG19** feature maps to transfer artistic style from one image to another.\n",
    "\n",
    "* **Expected Outcome**: Understand how CNN captures texture and content."
   ]
  }
 ],
 "metadata": {
  "language_info": {
   "name": "python"
  }
 },
 "nbformat": 4,
 "nbformat_minor": 5
}
