{
 "cells": [
  {
   "cell_type": "markdown",
   "id": "3c8b6af5",
   "metadata": {},
   "source": [
    "## 🧪 Exercise 11: Image Segmentation\n",
    "\n",
    "**Objective**: Perform pixel-wise classification.\n",
    "\n",
    "**Tasks**:\n",
    "- Train a **U-Net** on a segmentation dataset (e.g., Carvana, COCO subset).\n",
    "- Visualize predicted masks.\n",
    "\n",
    "* **Expected Outcome**: Understand segmentation vs classification."
   ]
  }
 ],
 "metadata": {
  "language_info": {
   "name": "python"
  }
 },
 "nbformat": 4,
 "nbformat_minor": 5
}
