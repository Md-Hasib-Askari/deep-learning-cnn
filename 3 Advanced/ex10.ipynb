{
 "cells": [
  {
   "cell_type": "markdown",
   "id": "3c8b6af5",
   "metadata": {},
   "source": [
    "## 🧪 Exercise 10: Object Detection (Intro)\n",
    "\n",
    "**Objective**: Detect and localize objects.\n",
    "\n",
    "**Tasks**:\n",
    "- Use **YOLOv5 or Faster R-CNN** for object detection.\n",
    "- Train on a small annotated dataset (e.g., Pascal VOC subset).\n",
    "\n",
    "* **Expected Outcome**: Generate bounding boxes with class labels."
   ]
  }
 ],
 "metadata": {
  "language_info": {
   "name": "python"
  }
 },
 "nbformat": 4,
 "nbformat_minor": 5
}
