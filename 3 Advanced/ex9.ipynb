{
 "cells": [
  {
   "cell_type": "markdown",
   "id": "3c8b6af5",
   "metadata": {},
   "source": [
    "## 🧪 Exercise 9: Transfer Learning\n",
    "\n",
    "**Objective**: Reuse pretrained models for new tasks.\n",
    "\n",
    "**Tasks**:\n",
    "- Fine-tune **VGG16**, **ResNet18**, or **MobileNet** on a small custom dataset (e.g., cats vs dogs).\n",
    "- Freeze/unfreeze layers and compare results.\n",
    "\n",
    "* **Expected Outcome**: Learn efficiency of pretrained models."
   ]
  }
 ],
 "metadata": {
  "language_info": {
   "name": "python"
  }
 },
 "nbformat": 4,
 "nbformat_minor": 5
}
