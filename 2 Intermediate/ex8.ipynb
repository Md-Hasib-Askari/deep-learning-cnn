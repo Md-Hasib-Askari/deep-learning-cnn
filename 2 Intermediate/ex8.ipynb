{
 "cells": [
  {
   "cell_type": "markdown",
   "id": "15e60bcd",
   "metadata": {},
   "source": [
    "## 🧪 Exercise 8: Visualize Filters and Activations\n",
    "\n",
    "**Objective**: Interpret CNN behavior.\n",
    "\n",
    "**Tasks**:\n",
    "- Visualize learned filters and feature maps of intermediate layers.\n",
    "- Plot Grad-CAM for a class prediction.\n",
    "\n",
    "* **Expected Outcome**: Gain intuition on CNN decision-making."
   ]
  },
  {
   "cell_type": "code",
   "execution_count": null,
   "id": "d12c1248",
   "metadata": {
    "vscode": {
     "languageId": "plaintext"
    }
   },
   "outputs": [],
   "source": []
  }
 ],
 "metadata": {
  "language_info": {
   "name": "python"
  }
 },
 "nbformat": 4,
 "nbformat_minor": 5
}
