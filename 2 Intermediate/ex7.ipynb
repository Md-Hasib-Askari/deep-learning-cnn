{
 "cells": [
  {
   "cell_type": "markdown",
   "id": "15e60bcd",
   "metadata": {},
   "source": [
    "## 🧪 Exercise 7: Data Augmentation\n",
    "\n",
    "**Objective**: Increase dataset diversity.\n",
    "\n",
    "**Tasks**:\n",
    "- Use `torchvision.transforms` or `ImageDataGenerator`.\n",
    "- Apply rotation, zoom, flip, brightness, etc.\n",
    "\n",
    "* **Expected Outcome**: Improved accuracy and reduced overfitting."
   ]
  },
  {
   "cell_type": "code",
   "execution_count": null,
   "id": "d12c1248",
   "metadata": {
    "vscode": {
     "languageId": "plaintext"
    }
   },
   "outputs": [],
   "source": []
  }
 ],
 "metadata": {
  "language_info": {
   "name": "python"
  }
 },
 "nbformat": 4,
 "nbformat_minor": 5
}
