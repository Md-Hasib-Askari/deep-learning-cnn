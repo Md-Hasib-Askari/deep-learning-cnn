{
 "cells": [
  {
   "cell_type": "markdown",
   "id": "15e60bcd",
   "metadata": {},
   "source": [
    "## 🧪 Exercise 6: Regularization and Optimization\n",
    "\n",
    "**Objective**: Improve CNN performance and generalization.\n",
    "\n",
    "**Tasks**:\n",
    "- Add dropout, batch normalization, and different optimizers (SGD, Adam).\n",
    "- Compare performance.\n",
    "\n",
    "* **Expected Outcome**: Understand model regularization and convergence."
   ]
  },
  {
   "cell_type": "code",
   "execution_count": null,
   "id": "d12c1248",
   "metadata": {
    "vscode": {
     "languageId": "plaintext"
    }
   },
   "outputs": [],
   "source": []
  }
 ],
 "metadata": {
  "language_info": {
   "name": "python"
  }
 },
 "nbformat": 4,
 "nbformat_minor": 5
}
