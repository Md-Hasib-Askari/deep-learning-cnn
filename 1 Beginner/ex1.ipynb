{
 "cells": [
  {
   "cell_type": "markdown",
   "id": "2eadbc43",
   "metadata": {},
   "source": [
    "## 🧪 Exercise 1: Image Basics\n",
    "\n",
    "Objective: Learn how to handle and visualize images in Python."
   ]
  },
  {
   "cell_type": "code",
   "execution_count": 4,
   "id": "8cae9068",
   "metadata": {},
   "outputs": [],
   "source": [
    "# Task 1: Load images using OpenCV and PIL\n",
    "import cv2\n",
    "from PIL import Image\n",
    "\n",
    "# Load an image using OpenCV\n",
    "img_url = \"image.png\"\n",
    "img_cv = cv2.imread(img_url)\n",
    "# cv2.imshow('OpenCV Image', img_cv)\n",
    "# cv2.waitKey(0)\n",
    "# cv2.destroyAllWindows()\n",
    "\n",
    "# Load an image using PIL\n",
    "img_pil = Image.open(img_url)\n",
    "img_pil.show()"
   ]
  }
 ],
 "metadata": {
  "kernelspec": {
   "display_name": "base",
   "language": "python",
   "name": "python3"
  },
  "language_info": {
   "codemirror_mode": {
    "name": "ipython",
    "version": 3
   },
   "file_extension": ".py",
   "mimetype": "text/x-python",
   "name": "python",
   "nbconvert_exporter": "python",
   "pygments_lexer": "ipython3",
   "version": "3.13.0"
  }
 },
 "nbformat": 4,
 "nbformat_minor": 5
}
