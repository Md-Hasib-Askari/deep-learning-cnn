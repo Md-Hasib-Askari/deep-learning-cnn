{
 "cells": [
  {
   "cell_type": "markdown",
   "id": "222f168f",
   "metadata": {},
   "source": [
    "## 🧪 Exercise 4: Feedforward Neural Network for MNIST\n",
    "\n",
    "**Objective**: Transition from perceptron to ANN.\n",
    "\n",
    "**Tasks**:\n",
    "- Build a 2-layer dense network in PyTorch or TensorFlow.\n",
    "- Train it on MNIST and visualize accuracy/loss.\n",
    "\n",
    "* **Expected Outcome**: Achieve >90% accuracy on MNIST."
   ]
  },
  {
   "cell_type": "code",
   "execution_count": null,
   "id": "f785ad41",
   "metadata": {
    "vscode": {
     "languageId": "plaintext"
    }
   },
   "outputs": [],
   "source": []
  }
 ],
 "metadata": {
  "language_info": {
   "name": "python"
  }
 },
 "nbformat": 4,
 "nbformat_minor": 5
}
