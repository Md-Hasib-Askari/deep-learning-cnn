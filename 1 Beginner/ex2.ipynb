{
 "cells": [
  {
   "cell_type": "markdown",
   "id": "222f168f",
   "metadata": {},
   "source": [
    "## 🧪 Exercise 2: Filters and Convolutions (Manual)\n",
    "\n",
    "**Objective**: Learn how to handle and visualize images in Python.\n",
    "\n",
    "**Tasks**:\n",
    "- Manually apply Sobel, Gaussian, and Laplacian filters using convolution.\n",
    "- Visualize filter effects on an image.\n",
    "\n",
    "* **Expected Outcome**: See how convolution extracts edges and shapes.\n",
    "* **Hint**: Use `scipy.signal.convolve2d()` or write a custom convolution function."
   ]
  }
 ],
 "metadata": {
  "language_info": {
   "name": "python"
  }
 },
 "nbformat": 4,
 "nbformat_minor": 5
}
