{
 "cells": [
  {
   "cell_type": "markdown",
   "id": "222f168f",
   "metadata": {},
   "source": [
    "## 🧪 Exercise 3: Build a Simple Perceptron\n",
    "\n",
    "**Objective**: Understand the foundation of neural networks.\n",
    "\n",
    "**Tasks**:\n",
    "- Implement a single-layer perceptron in NumPy.\n",
    "- Train it on MNIST digits (binary classification: 0 vs 1).\n",
    "\n",
    "* **Expected Outcome**: See how a perceptron learns simple visual features."
   ]
  }
 ],
 "metadata": {
  "language_info": {
   "name": "python"
  }
 },
 "nbformat": 4,
 "nbformat_minor": 5
}
