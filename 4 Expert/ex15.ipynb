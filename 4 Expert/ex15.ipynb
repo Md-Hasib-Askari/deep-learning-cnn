{
 "cells": [
  {
   "cell_type": "markdown",
   "id": "71cb0b65",
   "metadata": {},
   "source": [
    "## 🧪 Exercise 15: Vision Transformers (ViT)\n",
    "\n",
    "**Objective**: Explore modern CNN alternatives.\n",
    "\n",
    "**Tasks**:\n",
    "- Train or fine-tune a Vision Transformer using `timm` or Hugging Face.\n",
    "- Compare performance with **ResNet**.\n",
    "\n",
    "* **Expected Outcome**: Understand patch embedding and attention in vision."
   ]
  }
 ],
 "metadata": {
  "language_info": {
   "name": "python"
  }
 },
 "nbformat": 4,
 "nbformat_minor": 5
}
