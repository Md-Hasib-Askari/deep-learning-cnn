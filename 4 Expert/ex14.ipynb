{
 "cells": [
  {
   "cell_type": "markdown",
   "id": "71cb0b65",
   "metadata": {},
   "source": [
    "## 🧪 Exercise 14: Gesture or Emotion Recognition\n",
    "\n",
    "**Objective**: Apply CNNs to video or sequential vision tasks.\n",
    "\n",
    "**Tasks**:\n",
    "- Use **CNN+LSTM or 3D CNN** for classifying facial emotions or gestures.\n",
    "\n",
    "* **Expected Outcome**: Handle temporal vision data."
   ]
  }
 ],
 "metadata": {
  "language_info": {
   "name": "python"
  }
 },
 "nbformat": 4,
 "nbformat_minor": 5
}
